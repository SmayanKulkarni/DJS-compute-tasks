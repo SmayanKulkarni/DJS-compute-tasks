{
  "nbformat": 4,
  "nbformat_minor": 0,
  "metadata": {
    "colab": {
      "provenance": []
    },
    "kernelspec": {
      "name": "python3",
      "display_name": "Python 3"
    },
    "language_info": {
      "name": "python"
    }
  },
  "cells": [
    {
      "cell_type": "markdown",
      "source": [
        "**General Instructions:**\n",
        "\n",
        "*   Please make a copy of this colab notebook in your own drive and solve the questions in the copy. Do not edit the original file.\n",
        "\n",
        "*   All participants are encouraged to learn the basics of python including data types, operators, loops, conditional statements, handling user-defined input, strings, string methods, lists, list comprehension, sets, tuples, dictionaries and basic object-oriented programming concepts before coming to the interview.\n",
        "\n",
        "Beginners unfamiliar with Python are advised to watch the following tutorial before beginning Task 1.\n",
        "\n",
        "**Python Tutorial:** https://youtu.be/_uQrJ0TkZlc?feature=shared\n",
        "\n",
        "\n",
        "**Note:** The expected output is given in the cells below the question.\n"
      ],
      "metadata": {
        "id": "PiZZfxvj57LK"
      }
    },
    {
      "cell_type": "markdown",
      "source": [
        "# Task 1 - Basics of Python\n",
        "\n",
        "\n",
        "\n",
        "> It is the year 3031 and the Earth has been invaded by an alien species from the planet of Dioneterra. The resources on their own planet have become severely depleted and they're determined to subjugate humans and take control of the Earth's resources. The Dioneterrans can take on the appearance of any human. The world has been thrown into chaos and fear as the aliens have infiltrated all levels of government. You don't know who to trust as anyone can be an alien in disguise.\n",
        "\n",
        "\n",
        "\n",
        "\n"
      ],
      "metadata": {
        "id": "FgdtUgoiauGY"
      }
    },
    {
      "cell_type": "markdown",
      "source": [
        "**Question 1:**\n",
        "You have a group of people you can trust, whose identities you have confirmed as humans. Unfortunately, since the aliens have access to government resources they have information on all citizens. It would be the height of foolishness to call your team members by their own names while on missions to save humanity. As such you need to generate secret code names for each member.\n",
        "\n",
        "Given below is a list of names. Your job is to write a function codename_generator() that takes the given list as input and prints every possible combination of code names from the given list, separated by whitespace (e.g. Orion Barracuda). Take care to not print codenames with the same name twice (e.g. Orion Orion) or two codenames with the same combination (e.g. if you have a codename Orion Barracuda, then you cannot have a codename Barracuda Orion)."
      ],
      "metadata": {
        "id": "jk_UOVbvcfJb"
      }
    },
    {
      "cell_type": "markdown",
      "source": [],
      "metadata": {
        "id": "5uO4xE3J9qB1"
      }
    },
    {
      "cell_type": "code",
      "execution_count": null,
      "metadata": {
        "id": "LmwLUF-kahv0"
      },
      "outputs": [],
      "source": [
        "name_list = [\"Orion\", \"Barracuda\", \"Amethyst\", \"Blade\", \"Wasp\", \"Nemesis\", \"Fury\", \"Cobra\", \"Tempest\", \"Leo\", \"Scythe\"]"
      ]
    },
    {
      "cell_type": "code",
      "source": [
        "# Attempt 1 : Forcing\n",
        "# def codename_generator(givenlist):\n",
        "#   result=[]\n",
        "#   for i in range(len(givenlist)):\n",
        "#     for j in range(len(givenlist)+1):\n",
        "#       if j<len(givenlist):\n",
        "#         result.append(givenlist[i]+givenlist[j])\n",
        "#       else:\n",
        "#         result.append(givenlist[i])\n",
        "#     del givenlist[i]\n",
        "#   return result\n",
        "\n",
        "# ans = codename_generator(name_list)\n",
        "# ans\n",
        "\n",
        "#Attempt 2\n",
        "# Printing and Tring to Optimize\n",
        "def codename_generator(name_list):\n",
        "    n = len(name_list)\n",
        "\n",
        "    for i in range(n):\n",
        "        for j in range(i + 1, n):\n",
        "            print(name_list[i], name_list[j])\n",
        "\n",
        "codename_generator(name_list)\n",
        "\n",
        "# Using a list\n",
        "def codename_generator(name_list):\n",
        "    n = len(name_list)\n",
        "    result=[]\n",
        "    for i in range(n):\n",
        "        for j in range(i + 1, n):\n",
        "            result.append(name_list[i]+' '+ name_list[j])\n",
        "    return result\n",
        "ans = codename_generator(name_list)\n",
        "print(ans)"
      ],
      "metadata": {
        "colab": {
          "base_uri": "https://localhost:8080/"
        },
        "id": "H3vbMHoYf5Q1",
        "outputId": "f93c01db-cef5-444e-e964-3942ac62c9e0"
      },
      "execution_count": null,
      "outputs": [
        {
          "output_type": "stream",
          "name": "stdout",
          "text": [
            "Orion Barracuda\n",
            "Orion Amethyst\n",
            "Orion Blade\n",
            "Orion Wasp\n",
            "Orion Nemesis\n",
            "Orion Fury\n",
            "Orion Cobra\n",
            "Orion Tempest\n",
            "Orion Leo\n",
            "Orion Scythe\n",
            "Barracuda Amethyst\n",
            "Barracuda Blade\n",
            "Barracuda Wasp\n",
            "Barracuda Nemesis\n",
            "Barracuda Fury\n",
            "Barracuda Cobra\n",
            "Barracuda Tempest\n",
            "Barracuda Leo\n",
            "Barracuda Scythe\n",
            "Amethyst Blade\n",
            "Amethyst Wasp\n",
            "Amethyst Nemesis\n",
            "Amethyst Fury\n",
            "Amethyst Cobra\n",
            "Amethyst Tempest\n",
            "Amethyst Leo\n",
            "Amethyst Scythe\n",
            "Blade Wasp\n",
            "Blade Nemesis\n",
            "Blade Fury\n",
            "Blade Cobra\n",
            "Blade Tempest\n",
            "Blade Leo\n",
            "Blade Scythe\n",
            "Wasp Nemesis\n",
            "Wasp Fury\n",
            "Wasp Cobra\n",
            "Wasp Tempest\n",
            "Wasp Leo\n",
            "Wasp Scythe\n",
            "Nemesis Fury\n",
            "Nemesis Cobra\n",
            "Nemesis Tempest\n",
            "Nemesis Leo\n",
            "Nemesis Scythe\n",
            "Fury Cobra\n",
            "Fury Tempest\n",
            "Fury Leo\n",
            "Fury Scythe\n",
            "Cobra Tempest\n",
            "Cobra Leo\n",
            "Cobra Scythe\n",
            "Tempest Leo\n",
            "Tempest Scythe\n",
            "Leo Scythe\n",
            "['Orion Barracuda', 'Orion Amethyst', 'Orion Blade', 'Orion Wasp', 'Orion Nemesis', 'Orion Fury', 'Orion Cobra', 'Orion Tempest', 'Orion Leo', 'Orion Scythe', 'Barracuda Amethyst', 'Barracuda Blade', 'Barracuda Wasp', 'Barracuda Nemesis', 'Barracuda Fury', 'Barracuda Cobra', 'Barracuda Tempest', 'Barracuda Leo', 'Barracuda Scythe', 'Amethyst Blade', 'Amethyst Wasp', 'Amethyst Nemesis', 'Amethyst Fury', 'Amethyst Cobra', 'Amethyst Tempest', 'Amethyst Leo', 'Amethyst Scythe', 'Blade Wasp', 'Blade Nemesis', 'Blade Fury', 'Blade Cobra', 'Blade Tempest', 'Blade Leo', 'Blade Scythe', 'Wasp Nemesis', 'Wasp Fury', 'Wasp Cobra', 'Wasp Tempest', 'Wasp Leo', 'Wasp Scythe', 'Nemesis Fury', 'Nemesis Cobra', 'Nemesis Tempest', 'Nemesis Leo', 'Nemesis Scythe', 'Fury Cobra', 'Fury Tempest', 'Fury Leo', 'Fury Scythe', 'Cobra Tempest', 'Cobra Leo', 'Cobra Scythe', 'Tempest Leo', 'Tempest Scythe', 'Leo Scythe']\n"
          ]
        }
      ]
    },
    {
      "cell_type": "markdown",
      "source": [
        "**Question 2:**\n",
        "\n",
        "1.   List item\n",
        "2.   List item\n",
        "\n",
        "\n",
        "You recently caught wind of the rumour that a Resistance Movement against the aliens is starting to gain traction. You and your group of trustworthy humans resolve to go to the headquarters of the Resistance and join the movement.\n",
        "\n",
        "You reach the headquarters and find utter chaos, the leader of the Resistance tells you that they have so many refugees and as a result their registration system is a mess and they have no way of telling apart actual humans and aliens who might have infiltrated the headquarters as humans.\n",
        "\n",
        "He knows that you have programming skills and asks for your help in weeding out the aliens.\n",
        "\n",
        "Given below in the form of a list is the register of names of refugees that the headquarters maintains. Sort the names into two lists - potential aliens and humans. Alien names may:\n",
        "*   begin with the letter 'G'\n",
        "*   contain the substring 'arz'\n",
        "*   contain a digit\n",
        "\n",
        "Additionally, ensure that the new lists do not contain duplicate names and handle any problems that may arise due to case-sensitivity and whitespaces.\n",
        "\n"
      ],
      "metadata": {
        "id": "gezvSe3_hgoU"
      }
    },
    {
      "cell_type": "code",
      "source": [
        "register = [\"Gunther\", \"karzan\", \"pip1do\", \"amelia\", \"emma\", \"jarzk\", \"P0ppy\", \"gunther\", \"Daisy\",\" Demelza \", \"Lisa \", \"garzon \", \"marz4\"]"
      ],
      "metadata": {
        "id": "xqobzAhOunhf"
      },
      "execution_count": null,
      "outputs": []
    },
    {
      "cell_type": "code",
      "source": [
        "# Attempt 1\n",
        "# register = [\"Gunther\", \"karzan\", \"pip1do\", \"amelia\", \"emma\", \"jarzk\", \"P0ppy\", \"gunther\", \"Daisy\", \"Demelza\", \"Lisa\", \"garzon\", \"marz4\"]\n",
        "# Aliens = []\n",
        "# Humans = []\n",
        "\n",
        "# def contains_number(s):\n",
        "#     for char in s:\n",
        "#         if char.isdigit():\n",
        "#             return True\n",
        "#     return False\n",
        "\n",
        "# for name in register:\n",
        "#     name = name.strip()\n",
        "#     if name[0].lower() == 'g':\n",
        "#         Aliens.append(name.lower())\n",
        "#     elif name.find(\"arz\"): This line caused issues as it was considerng 'arz' individually\n",
        "#         Aliens.append(name.lower())\n",
        "#     elif contains_number(name.lower()):\n",
        "#         Aliens.append(name.lower())\n",
        "#     else:\n",
        "#         Humans.append(name.lower())\n",
        "\n",
        "# print(\"Humans:\", Humans)\n",
        "# print(\"Aliens:\", Aliens)\n",
        "\n",
        "#Attempt 2\n",
        "\n",
        "Aliens = []\n",
        "Humans = []\n",
        "\n",
        "def contains_number(s):\n",
        "    for char in s:\n",
        "        if char.isdigit():\n",
        "            return True\n",
        "    return False\n",
        "\n",
        "for name in register:\n",
        "    name = name.strip()\n",
        "    if name[0].lower() == 'g':\n",
        "        Aliens.append(name.lower())\n",
        "    elif 'arz' in name:\n",
        "        Aliens.append(name.lower())\n",
        "    elif contains_number(name):\n",
        "        Aliens.append(name.lower())\n",
        "    else:\n",
        "        Humans.append(name.lower())\n",
        "\n",
        "print(\"Humans:\", Humans)\n",
        "print(\"Aliens:\", Aliens)"
      ],
      "metadata": {
        "colab": {
          "base_uri": "https://localhost:8080/"
        },
        "id": "ZHWkgegKvpgZ",
        "outputId": "ccbc9ec9-d946-45b3-c690-039275ae2c45"
      },
      "execution_count": null,
      "outputs": [
        {
          "output_type": "stream",
          "name": "stdout",
          "text": [
            "Humans: ['amelia', 'emma', 'daisy', 'demelza', 'lisa']\n",
            "Aliens: ['gunther', 'karzan', 'pip1do', 'jarzk', 'p0ppy', 'gunther', 'garzon', 'marz4']\n"
          ]
        }
      ]
    },
    {
      "cell_type": "markdown",
      "source": [
        "**Question 3:** Now that you have identified the potential aliens, its now time to decide how probable it is that these refugees are aliens.\n",
        "\n",
        "Prepare a dictionary where the keys are the names from the potential aliens list and the associated values are percentages from 0-100 of how probable it is that the refugee with those names are aliens.\n",
        "\n",
        "Given below are the conditions and associated probabilities:\n",
        "*   name starts with 'g' - 25%\n",
        "*   name contains \"arz\" - 50%\n",
        "*   name starts with 'g' and contains \"arz\" - 75%\n",
        "*   name has a digit - 100%"
      ],
      "metadata": {
        "id": "coC9Sbqd0bq0"
      }
    },
    {
      "cell_type": "code",
      "source": [
        "# Attempt 1\n",
        "\n",
        "ans={}\n",
        "\n",
        "def contains_number(s):\n",
        "    for char in s:\n",
        "        if char.isdigit():\n",
        "            return True\n",
        "    return False\n",
        "\n",
        "for name in register:\n",
        "    name = name.strip()\n",
        "    if contains_number(name):  # Kept first here as it is secondary cndition in otheconditional,\n",
        "        ans[name]=100          # thus to prevent any erros from collision this is kept as first condition, eg : when it stays as lst condition 'marz4' becomes 75 according to loop 2\n",
        "    elif name[0].lower() == 'g':\n",
        "        if 'arz' in name:\n",
        "            ans[name] = 75\n",
        "        else :\n",
        "            ans[name]=25\n",
        "\n",
        "    elif 'arz' in name:\n",
        "        ans[name]=50\n",
        "\n",
        "\n",
        "print(ans)"
      ],
      "metadata": {
        "colab": {
          "base_uri": "https://localhost:8080/"
        },
        "id": "aPuIzBQv2sSS",
        "outputId": "ef639486-85c2-488d-d282-bf132ea9e368"
      },
      "execution_count": null,
      "outputs": [
        {
          "output_type": "stream",
          "name": "stdout",
          "text": [
            "{'Gunther': 25, 'karzan': 50, 'pip1do': 100, 'jarzk': 50, 'P0ppy': 100, 'gunther': 25, 'garzon': 75, 'marz4': 100}\n"
          ]
        }
      ]
    },
    {
      "cell_type": "markdown",
      "source": [
        "**Question 4:** Now that you have completely weeded out the aliens, onto the next part of the plan.\n",
        "\n",
        "> Add blockquote\n",
        "\n",
        "\n",
        "\n",
        "There are 12 districts in your city - I to XII. Another resistance group has agreed to share supplies with your group. They send you a list of districts they are operational in and you have in hand, the list of districts your group has members in. Determine which districts you can meet up in, i.e., districts that both the groups operate in.\n",
        "\n",
        "Hint: set operations may prove useful."
      ],
      "metadata": {
        "id": "6z7Wr4BD8xSA"
      }
    },
    {
      "cell_type": "code",
      "source": [
        "your_districts = ['I', 'IV', 'V', 'I', 'VI', 'IX', 'X', 'II', 'III', 'I']\n",
        "their_districts = ['V', 'IV', 'VI', 'XII', 'VII', 'IV', 'VI', 'VIII', 'III']"
      ],
      "metadata": {
        "id": "xUCGsUO9-use"
      },
      "execution_count": null,
      "outputs": []
    },
    {
      "cell_type": "code",
      "source": [
        "# Attempt 1 (works as well)\n",
        "\n",
        "# common_districts = []\n",
        "\n",
        "# for district in your_districts:\n",
        "#     if district in their_districts and district not in common_districts:\n",
        "#         common_districts.append(district)\n",
        "\n",
        "# print(\"Meet Up Districts:\", common_districts)\n",
        "\n",
        "# Attemp 2, using set\n",
        "ourset = set(your_districts)\n",
        "theirset=set(their_districts)\n",
        "common = set()\n",
        "\n",
        "for district in ourset:\n",
        "    if district in theirset:\n",
        "        common.add(district)\n",
        "\n",
        "print(\"Meet Up Districts: \", common)\n"
      ],
      "metadata": {
        "colab": {
          "base_uri": "https://localhost:8080/"
        },
        "id": "y7MSDDAL_ZhT",
        "outputId": "f6f5e055-b492-4d66-bde7-885d514f33d0"
      },
      "execution_count": null,
      "outputs": [
        {
          "output_type": "stream",
          "name": "stdout",
          "text": [
            "Meet Up Districts:  {'IV', 'VI', 'V', 'III'}\n"
          ]
        }
      ]
    },
    {
      "cell_type": "markdown",
      "source": [
        "Let's take the difficulty up a notch shall we? Your spies have informed you that the alien goverment has been setting up patrols in some districts to curb rebel movement. One of the spies managed to get a list of the districts that are being patrolled. Ensure that your meet up with the other rebel group does not take place in a patrolled district so that you do not get caught."
      ],
      "metadata": {
        "id": "0MHXt5lKAYIW"
      }
    },
    {
      "cell_type": "code",
      "source": [
        "patrolled_districts = ['I', 'II', 'XII', 'IX', 'XI', 'IV', 'II', 'VI']"
      ],
      "metadata": {
        "id": "M-2hfJTOCfAz"
      },
      "execution_count": null,
      "outputs": []
    },
    {
      "cell_type": "code",
      "source": [
        "#Attempt 1\n",
        "# ourset = set(your_districts)\n",
        "# theirset=set(their_districts)\n",
        "# common = set()\n",
        "\n",
        "# for district in ourset:\n",
        "#     if district in theirset:\n",
        "#         common.add(district)\n",
        "# for district in common: #Error here is [\"Set changed size during iteration\"], so trying with list\n",
        "#   if district in patrolled_districts:\n",
        "#     common.remove(district)\n",
        "\n",
        "# print(common)\n",
        "\n",
        "# Attempt 1, error fixed from searching online, now works\n",
        "\n",
        "# ourset = set(your_districts)\n",
        "# theirset=set(their_districts)\n",
        "# common = set()\n",
        "\n",
        "# for district in ourset:\n",
        "#     if district in theirset:\n",
        "#         common.add(district)\n",
        "\n",
        "# common_copy = common.copy()\n",
        "\n",
        "# for district in common_copy: #Error fixed by iterating through a copy of the original set, making big changes like removal cannot be performed on the set you are looping in, it can cause unexpected errors.\n",
        "#   if district in patrolled_districts:\n",
        "#     common.remove(district)\n",
        "\n",
        "# print(New Meet Up Districts:\", common)\n",
        "\n",
        "# Attempt 2\n",
        "common_districts = []\n",
        "\n",
        "for district in your_districts:\n",
        "    if district in their_districts and district not in common_districts:\n",
        "        common_districts.append(district)\n",
        "\n",
        "for district in common_districts:\n",
        "  if district in patrolled_districts:\n",
        "    common_districts.remove(district)\n",
        "\n",
        "print(\"New Meet Up Districts: \",common_districts)\n"
      ],
      "metadata": {
        "colab": {
          "base_uri": "https://localhost:8080/"
        },
        "id": "bYjT2EfTC0uu",
        "outputId": "88a2e2c4-af5d-4fa2-dea3-244a19d0fc23"
      },
      "execution_count": null,
      "outputs": [
        {
          "output_type": "stream",
          "name": "stdout",
          "text": [
            "New Meet Up Districts:  ['V', 'III']\n"
          ]
        }
      ]
    },
    {
      "cell_type": "markdown",
      "source": [
        "**Question 5:** Given below is a list of tuples. Each tuple in this list contains the rank and the name of a Dioneterran Commander. Your job is to define two functions: sort_by_rank() in descending order and sort_by_name() alphabetically to sort the given list by rank and name, respectively.\n",
        "\n",
        "Hint: use lambda expressions"
      ],
      "metadata": {
        "id": "hryYd_ubD2U8"
      }
    },
    {
      "cell_type": "code",
      "source": [
        "commanders = {(4, \"Barzak\"), (2, \"Donesia\"), (5, \"Zeroza\"), (1, \"Yggacia\"), (3, \"Larzon\")}"
      ],
      "metadata": {
        "id": "XniLIPBoGrl9"
      },
      "execution_count": null,
      "outputs": []
    },
    {
      "cell_type": "code",
      "source": [
        "# Attemp 1 : converting to list\n",
        "# commanders_list = list(commanders)\n",
        "# commanders_list.sort()\n",
        "# print(\"Sorted by Rank: \", commanders_list)\n",
        "# #commanders[1].sort() #Didnt work as instead of accessing the 2nd element in the tuple, we accessed the tuple at index 1, on which sort function cannot be performed\n",
        "# commanders_list.sort(key= lambda x : x[1])\n",
        "# print(\"Sorted by Name: \", commanders_list)\n",
        "\n",
        "# Attempt 2\n",
        "commanders_rank=sorted(commanders,key= lambda x : x[0])\n",
        "print(\"Sorted by Rank: \", commanders_rank)\n",
        "\n",
        "commanders_name=sorted(commanders,key= lambda x : x[1])\n",
        "print(\"Sorted by Name: \", commanders_name)\n"
      ],
      "metadata": {
        "colab": {
          "base_uri": "https://localhost:8080/"
        },
        "id": "bjq8PTTOHh56",
        "outputId": "5786e0d4-04fc-4d6d-9bce-35b0471d2802"
      },
      "execution_count": null,
      "outputs": [
        {
          "output_type": "stream",
          "name": "stdout",
          "text": [
            "Sorted by Rank:  [(1, 'Yggacia'), (2, 'Donesia'), (3, 'Larzon'), (4, 'Barzak'), (5, 'Zeroza')]\n",
            "Sorted by Name:  [(4, 'Barzak'), (2, 'Donesia'), (3, 'Larzon'), (1, 'Yggacia'), (5, 'Zeroza')]\n"
          ]
        }
      ]
    },
    {
      "cell_type": "markdown",
      "source": [
        "**Question 6:** You have been given the task of calculating the danger level of Dioneterran Commanders. To accomplish this task, you're required to define a class Commander with the attributes name, rank, weight, height and age. Implement a method calculate_danger() that returns the danger level by adding the height to the weight and dividing the result by the age, round off to the nearest integer.\n",
        "\n",
        "Create a Commander object with the necessary parameters and print the danger level."
      ],
      "metadata": {
        "id": "90Nijs1KIZZ0"
      }
    },
    {
      "cell_type": "code",
      "source": [
        "class Commander:\n",
        "    def __init__(self, name, rank, weight, height, age):\n",
        "        self.name = name\n",
        "        self.rank = rank\n",
        "        self.weight = weight\n",
        "        self.height = height\n",
        "        self.age = age\n",
        "\n",
        "    def calculate_danger(self):\n",
        "        try:\n",
        "          danger_level = (self.height + self.weight) / self.age\n",
        "        except ZeroDivisionError :\n",
        "          print(\"Age cannot be zero\")\n",
        "\n",
        "        return round(danger_level)\n",
        "\n",
        "\n",
        "commander = Commander(name=\"John Doe\", rank=4, weight=80, height=180, age=33)\n",
        "danger = commander.calculate_danger()\n",
        "print(f\"Danger Level = {danger}\")\n"
      ],
      "metadata": {
        "colab": {
          "base_uri": "https://localhost:8080/"
        },
        "id": "gnI1a0TFLoqh",
        "outputId": "e0657cb4-9263-4aa9-c7a4-8ea86bb61d5f"
      },
      "execution_count": null,
      "outputs": [
        {
          "output_type": "stream",
          "name": "stdout",
          "text": [
            "Danger Level = 8\n"
          ]
        }
      ]
    },
    {
      "cell_type": "markdown",
      "source": [
        "**Question 7:** All the refugees in the headquarters who have been confirmed as humans have been assigned an ID. A lock has been installed at the gate. Your job is to write a regular expression that checks whether the ID entered is a valid one. Valid IDs have the following features:\n",
        "*   They are strings of exactly 7 characters\n",
        "*   The first 3 characters are uppercase alphabets\n",
        "*   The other last 4 characters are digits.\n",
        "\n",
        "Given below is a list of IDs entered at the gate. Determine which ones are valid.\n",
        "\n",
        "\n",
        "P.S. Don't forget to import the re module"
      ],
      "metadata": {
        "id": "74iydRkwULOi"
      }
    },
    {
      "cell_type": "code",
      "source": [
        "test_ids = [\"ABC1234\", \"sbaz56\", \"Wuy1452\", \"TYP9006\", \"KZED439\"]"
      ],
      "metadata": {
        "id": "WcroHcC4VUaY"
      },
      "execution_count": null,
      "outputs": []
    },
    {
      "cell_type": "code",
      "source": [
        "# your code here"
      ],
      "metadata": {
        "id": "_Gj97hjmVpGG"
      },
      "execution_count": null,
      "outputs": []
    },
    {
      "cell_type": "markdown",
      "source": [
        "For a better understanding of Regular Expressions: https://realpython.com/regex-python/"
      ],
      "metadata": {
        "id": "ZlnxyGHm7z0J"
      }
    }
  ]
}